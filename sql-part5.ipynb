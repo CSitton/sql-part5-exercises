{
    "metadata": {
        "kernelspec": {
            "name": "SQL",
            "display_name": "SQL",
            "language": "sql"
        },
        "language_info": {
            "name": "sql",
            "version": ""
        }
    },
    "nbformat_minor": 2,
    "nbformat": 4,
    "cells": [
        {
            "cell_type": "markdown",
            "source": [
                "# Exercises: Creating, Updating, and Destroying Objects\n",
                "\n",
                "For the exercises, you will be working with objects and data you create. Before opening this notebook, make sure that you have set up the new connection to the server and that you have located the database and your schema.\n",
                "\n",
                "## Object Creation\n",
                "\n",
                "Before coding, think of three things you want to make. These could be coding projects, new recipes, or planned projects for a woodworking hobby. Brainstorm the appropriate column names and data types as well.\n",
                "\n",
                "Create a table under your schema called `planned_makes`."
            ],
            "metadata": {
                "azdata_cell_guid": "9d51c166-0c19-4f27-a422-2a6cf596bfb2"
            }
        },
        {
            "cell_type": "code",
            "source": [
                "CREATE TABLE JunkDB_STL_May2023.catelyn.planned_makes2(\r\n",
                "Book_Name VARCHAR(50) PRIMARY KEY, \r\n",
                "Book_Cost INT,\r\n",
                "lenth_book INT,\r\n",
                "Rating INT)"
            ],
            "metadata": {
                "azdata_cell_guid": "d9238911-6f81-4f01-980d-b584307effaf",
                "language": "sql"
            },
            "outputs": [
                {
                    "output_type": "display_data",
                    "data": {
                        "text/html": "Commands completed successfully."
                    },
                    "metadata": {}
                },
                {
                    "output_type": "display_data",
                    "data": {
                        "text/html": "Total execution time: 00:00:00.048"
                    },
                    "metadata": {}
                }
            ],
            "execution_count": 18
        },
        {
            "cell_type": "code",
            "source": [
                "SELECT *\r\n",
                "FROM JunkDB_STL_May2023.catelyn.planned_makes2;"
            ],
            "metadata": {
                "language": "sql",
                "azdata_cell_guid": "52e6f19e-860f-4ba5-b18d-ed71c6f84cc1"
            },
            "outputs": [
                {
                    "output_type": "display_data",
                    "data": {
                        "text/html": "(0 rows affected)"
                    },
                    "metadata": {}
                },
                {
                    "output_type": "display_data",
                    "data": {
                        "text/html": "Total execution time: 00:00:00.045"
                    },
                    "metadata": {}
                },
                {
                    "output_type": "execute_result",
                    "metadata": {},
                    "execution_count": 19,
                    "data": {
                        "application/vnd.dataresource+json": {
                            "schema": {
                                "fields": [
                                    {
                                        "name": "Book_Name"
                                    },
                                    {
                                        "name": "Book_Cost"
                                    },
                                    {
                                        "name": "lenth_book"
                                    },
                                    {
                                        "name": "Rating"
                                    }
                                ]
                            },
                            "data": []
                        },
                        "text/html": [
                            "<table>",
                            "<tr><th>Book_Name</th><th>Book_Cost</th><th>lenth_book</th><th>Rating</th></tr>",
                            "</table>"
                        ]
                    }
                }
            ],
            "execution_count": 19
        },
        {
            "cell_type": "markdown",
            "source": [
                "Add three rows to your table that are your planned makes."
            ],
            "metadata": {
                "azdata_cell_guid": "83cdf34d-8c4f-4fa1-a14e-77384b19d734"
            }
        },
        {
            "cell_type": "code",
            "source": [
                "INSERT INTO JunkDB_STL_May2023.catelyn.planned_makes2 (Book_Name, Book_Cost, lenth_book, Rating)\r\n",
                "VALUES\r\n",
                "    ('Bow Before the Elf', 4, 506, 4),\r\n",
                "    ('The Coven', 2, 298, 3),\r\n",
                "    ('Fourth Wing', 15, 664, 5)\r\n",
                "SELECT * FROM JunkDB_STL_May2023.catelyn.planned_makes2"
            ],
            "metadata": {
                "azdata_cell_guid": "e7cff9cb-87ba-4c7b-98f2-eaf445e8719c",
                "language": "sql"
            },
            "outputs": [
                {
                    "output_type": "display_data",
                    "data": {
                        "text/html": "(3 rows affected)"
                    },
                    "metadata": {}
                },
                {
                    "output_type": "display_data",
                    "data": {
                        "text/html": "(3 rows affected)"
                    },
                    "metadata": {}
                },
                {
                    "output_type": "display_data",
                    "data": {
                        "text/html": "Total execution time: 00:00:00.079"
                    },
                    "metadata": {}
                },
                {
                    "output_type": "execute_result",
                    "metadata": {},
                    "execution_count": 21,
                    "data": {
                        "application/vnd.dataresource+json": {
                            "schema": {
                                "fields": [
                                    {
                                        "name": "Book_Name"
                                    },
                                    {
                                        "name": "Book_Cost"
                                    },
                                    {
                                        "name": "lenth_book"
                                    },
                                    {
                                        "name": "Rating"
                                    }
                                ]
                            },
                            "data": [
                                {
                                    "Book_Name": "Bow Before the Elf",
                                    "Book_Cost": "4",
                                    "lenth_book": "506",
                                    "Rating": "4"
                                },
                                {
                                    "Book_Name": "Fourth Wing",
                                    "Book_Cost": "15",
                                    "lenth_book": "664",
                                    "Rating": "5"
                                },
                                {
                                    "Book_Name": "The Coven",
                                    "Book_Cost": "2",
                                    "lenth_book": "298",
                                    "Rating": "3"
                                }
                            ]
                        },
                        "text/html": [
                            "<table>",
                            "<tr><th>Book_Name</th><th>Book_Cost</th><th>lenth_book</th><th>Rating</th></tr>",
                            "<tr><td>Bow Before the Elf</td><td>4</td><td>506</td><td>4</td></tr>",
                            "<tr><td>Fourth Wing</td><td>15</td><td>664</td><td>5</td></tr>",
                            "<tr><td>The Coven</td><td>2</td><td>298</td><td>3</td></tr>",
                            "</table>"
                        ]
                    }
                }
            ],
            "execution_count": 21
        },
        {
            "cell_type": "markdown",
            "source": [
                "## Update a Row\n",
                "\n",
                "Change different values in one of your three rows."
            ],
            "metadata": {
                "azdata_cell_guid": "4a39b8d4-ae97-4e09-8336-c5fc6a00d76c"
            }
        },
        {
            "cell_type": "code",
            "source": [
                "UPDATE catelyn.planned_makes2\r\n",
                "SET Book_Cost = 15\r\n",
                "WHERE Book_Name = 'The Coven'\r\n",
                "\r\n",
                "SELECT *\r\n",
                "FROM catelyn.planned_makes2"
            ],
            "metadata": {
                "azdata_cell_guid": "7409c695-9581-4ad8-b03a-574d2c4c87cb",
                "language": "sql"
            },
            "outputs": [
                {
                    "output_type": "display_data",
                    "data": {
                        "text/html": "(1 row affected)"
                    },
                    "metadata": {}
                },
                {
                    "output_type": "display_data",
                    "data": {
                        "text/html": "(3 rows affected)"
                    },
                    "metadata": {}
                },
                {
                    "output_type": "display_data",
                    "data": {
                        "text/html": "Total execution time: 00:00:00.077"
                    },
                    "metadata": {}
                },
                {
                    "output_type": "execute_result",
                    "metadata": {},
                    "execution_count": 22,
                    "data": {
                        "application/vnd.dataresource+json": {
                            "schema": {
                                "fields": [
                                    {
                                        "name": "Book_Name"
                                    },
                                    {
                                        "name": "Book_Cost"
                                    },
                                    {
                                        "name": "lenth_book"
                                    },
                                    {
                                        "name": "Rating"
                                    }
                                ]
                            },
                            "data": [
                                {
                                    "Book_Name": "Bow Before the Elf",
                                    "Book_Cost": "4",
                                    "lenth_book": "506",
                                    "Rating": "4"
                                },
                                {
                                    "Book_Name": "Fourth Wing",
                                    "Book_Cost": "15",
                                    "lenth_book": "664",
                                    "Rating": "5"
                                },
                                {
                                    "Book_Name": "The Coven",
                                    "Book_Cost": "15",
                                    "lenth_book": "298",
                                    "Rating": "3"
                                }
                            ]
                        },
                        "text/html": [
                            "<table>",
                            "<tr><th>Book_Name</th><th>Book_Cost</th><th>lenth_book</th><th>Rating</th></tr>",
                            "<tr><td>Bow Before the Elf</td><td>4</td><td>506</td><td>4</td></tr>",
                            "<tr><td>Fourth Wing</td><td>15</td><td>664</td><td>5</td></tr>",
                            "<tr><td>The Coven</td><td>15</td><td>298</td><td>3</td></tr>",
                            "</table>"
                        ]
                    }
                }
            ],
            "execution_count": 22
        },
        {
            "cell_type": "markdown",
            "source": [
                "## Delete a Row\n",
                "\n",
                "Delete one of the rows from your table."
            ],
            "metadata": {
                "azdata_cell_guid": "95e91a6e-9038-42d9-9401-5738842aba17"
            }
        },
        {
            "cell_type": "code",
            "source": [
                "DELETE FROM catelyn.planned_makes2\r\n",
                "WHERE Book_Name = 'The Coven';\r\n",
                "\r\n",
                "SELECT * FROM catelyn.planned_makes2"
            ],
            "metadata": {
                "azdata_cell_guid": "749c748f-19b5-4c69-9004-b6b20216616a",
                "language": "sql"
            },
            "outputs": [
                {
                    "output_type": "display_data",
                    "data": {
                        "text/html": "(1 row affected)"
                    },
                    "metadata": {}
                },
                {
                    "output_type": "display_data",
                    "data": {
                        "text/html": "(2 rows affected)"
                    },
                    "metadata": {}
                },
                {
                    "output_type": "display_data",
                    "data": {
                        "text/html": "Total execution time: 00:00:00.063"
                    },
                    "metadata": {}
                },
                {
                    "output_type": "execute_result",
                    "metadata": {},
                    "execution_count": 23,
                    "data": {
                        "application/vnd.dataresource+json": {
                            "schema": {
                                "fields": [
                                    {
                                        "name": "Book_Name"
                                    },
                                    {
                                        "name": "Book_Cost"
                                    },
                                    {
                                        "name": "lenth_book"
                                    },
                                    {
                                        "name": "Rating"
                                    }
                                ]
                            },
                            "data": [
                                {
                                    "Book_Name": "Bow Before the Elf",
                                    "Book_Cost": "4",
                                    "lenth_book": "506",
                                    "Rating": "4"
                                },
                                {
                                    "Book_Name": "Fourth Wing",
                                    "Book_Cost": "15",
                                    "lenth_book": "664",
                                    "Rating": "5"
                                }
                            ]
                        },
                        "text/html": [
                            "<table>",
                            "<tr><th>Book_Name</th><th>Book_Cost</th><th>lenth_book</th><th>Rating</th></tr>",
                            "<tr><td>Bow Before the Elf</td><td>4</td><td>506</td><td>4</td></tr>",
                            "<tr><td>Fourth Wing</td><td>15</td><td>664</td><td>5</td></tr>",
                            "</table>"
                        ]
                    }
                }
            ],
            "execution_count": 23
        },
        {
            "cell_type": "markdown",
            "source": [
                "## Drop the Table\n",
                "\n",
                "While this has been fun, it is time to drop the table!"
            ],
            "metadata": {
                "azdata_cell_guid": "2239cb09-137b-4579-905b-1aa020793181"
            }
        },
        {
            "cell_type": "code",
            "source": [
                "DROP TABLE catelyn.planned_makes2;"
            ],
            "metadata": {
                "azdata_cell_guid": "b3c7f6ea-ee26-46b3-9c2a-2f7a82c39699",
                "language": "sql"
            },
            "outputs": [
                {
                    "output_type": "display_data",
                    "data": {
                        "text/html": "Commands completed successfully."
                    },
                    "metadata": {}
                },
                {
                    "output_type": "display_data",
                    "data": {
                        "text/html": "Total execution time: 00:00:00.046"
                    },
                    "metadata": {}
                }
            ],
            "execution_count": 24
        }
    ]
}